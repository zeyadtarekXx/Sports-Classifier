{
  "cells": [
    {
      "cell_type": "markdown",
      "metadata": {
        "id": "fT_uHJ7Xa_hk"
      },
      "source": [
        "## Import and functions\n"
      ]
    },
    {
      "cell_type": "code",
      "execution_count": null,
      "metadata": {
        "id": "8-X0jar6a_hy",
        "colab": {
          "base_uri": "https://localhost:8080/"
        },
        "outputId": "57960e1a-f8af-49d9-f383-c4a141f7dc0d"
      },
      "outputs": [
        {
          "output_type": "stream",
          "name": "stdout",
          "text": [
            "Looking in indexes: https://pypi.org/simple, https://us-python.pkg.dev/colab-wheels/public/simple/\n",
            "Collecting tflearn\n",
            "  Downloading tflearn-0.5.0.tar.gz (107 kB)\n",
            "\u001b[K     |████████████████████████████████| 107 kB 38.6 MB/s \n",
            "\u001b[?25hRequirement already satisfied: numpy in /usr/local/lib/python3.8/dist-packages (from tflearn) (1.21.6)\n",
            "Requirement already satisfied: six in /usr/local/lib/python3.8/dist-packages (from tflearn) (1.15.0)\n",
            "Requirement already satisfied: Pillow in /usr/local/lib/python3.8/dist-packages (from tflearn) (7.1.2)\n",
            "Building wheels for collected packages: tflearn\n",
            "  Building wheel for tflearn (setup.py) ... \u001b[?25l\u001b[?25hdone\n",
            "  Created wheel for tflearn: filename=tflearn-0.5.0-py3-none-any.whl size=127299 sha256=e7ffd652e7cd6dc1ec6140654dbcf9910d87c09ccb421e0e2317bb6aa2a7c080\n",
            "  Stored in directory: /root/.cache/pip/wheels/65/9b/15/cb1e6b279c14ed897530d15cfd7da8e3df8a947e593f5cfe59\n",
            "Successfully built tflearn\n",
            "Installing collected packages: tflearn\n",
            "Successfully installed tflearn-0.5.0\n"
          ]
        },
        {
          "output_type": "stream",
          "name": "stderr",
          "text": [
            "WARNING:tensorflow:From /usr/local/lib/python3.8/dist-packages/tensorflow/python/compat/v2_compat.py:107: disable_resource_variables (from tensorflow.python.ops.variable_scope) is deprecated and will be removed in a future version.\n",
            "Instructions for updating:\n",
            "non-resource variables are not supported in the long term\n"
          ]
        }
      ],
      "source": [
        "import cv2\n",
        "import numpy as np\n",
        "import os\n",
        "from random import shuffle\n",
        "import tensorflow as tf\n",
        "import matplotlib.pyplot as plt\n",
        "!pip install tflearn\n",
        "import tflearn\n",
        "from tflearn.layers.conv import conv_2d, max_pool_2d\n",
        "from tflearn.layers.core import input_data, dropout, fully_connected\n",
        "from tflearn.layers.estimator import regression\n",
        "from __future__ import absolute_import\n",
        "from __future__ import division\n",
        "from __future__ import print_function\n"
      ]
    },
    {
      "cell_type": "code",
      "source": [
        "from google.colab import drive\n",
        "drive.mount('/content/drive')"
      ],
      "metadata": {
        "id": "y2yFEyUPbW3M",
        "colab": {
          "base_uri": "https://localhost:8080/"
        },
        "outputId": "5878c72d-7ed7-4cc3-d0f8-d2242016096d"
      },
      "execution_count": null,
      "outputs": [
        {
          "output_type": "stream",
          "name": "stdout",
          "text": [
            "Mounted at /content/drive\n"
          ]
        }
      ]
    },
    {
      "cell_type": "code",
      "execution_count": null,
      "metadata": {
        "id": "elByVQ5ja_h3"
      },
      "outputs": [],
      "source": [
        "IMG_SIZE = 224\n",
        "model_name = \"sports_classification_cnn\"\n",
        "LR = 0.001\n",
        "train_dir = \"/content/drive/MyDrive/NN Dataset.zip (Unzipped Files)/Train\"\n",
        "test_dir = \"/content/drive/MyDrive/NN Dataset.zip (Unzipped Files)/Test\""
      ]
    },
    {
      "cell_type": "code",
      "execution_count": null,
      "metadata": {
        "id": "x_nGijPra_h6"
      },
      "outputs": [],
      "source": [
        "def create_label(image_name):\n",
        "    label = image_name.split(\"_\")[0]\n",
        "    if label == \"Basketball\":\n",
        "        return np.array([1,0,0,0,0,0])\n",
        "    elif label == \"Football\":\n",
        "        return np.array([0,1,0,0,0,0])\n",
        "    elif label == \"Rowing\":\n",
        "        return np.array([0,0,1,0,0,0])\n",
        "    elif label == \"Swimming\":\n",
        "        return np.array([0,0,0,1,0,0])\n",
        "    elif label == \"Tennis\":\n",
        "        return np.array([0,0,0,0,1,0])\n",
        "    elif label == \"Yoga\":\n",
        "        return np.array([0,0,0,0,0,1])\n",
        "    else:\n",
        "        return np.array([0,0,0,0,0,0])"
      ]
    },
    {
      "cell_type": "code",
      "execution_count": null,
      "metadata": {
        "id": "jg9loEb0a_h8"
      },
      "outputs": [],
      "source": [
        "def create_train_data():\n",
        "    train_data = []\n",
        "    train_imgs = os.listdir(train_dir)\n",
        "    for img in train_imgs:\n",
        "        path = os.path.join(train_dir, img)\n",
        "        img_data = cv2.imread(path)\n",
        "        img_data = cv2.resize(img_data, (IMG_SIZE, IMG_SIZE))\n",
        "        train_data.append([np.array(img_data),create_label(img)])\n",
        "    shuffle(train_data)\n",
        "    np.save('train_data.npy', train_data)\n",
        "    return train_data"
      ]
    },
    {
      "cell_type": "code",
      "execution_count": null,
      "metadata": {
        "id": "c1X2ArCua_h-"
      },
      "outputs": [],
      "source": [
        "def create_test_data():\n",
        "    test_data = []\n",
        "    test_imgs = os.listdir(test_dir)\n",
        "    for img in test_imgs:\n",
        "        path = os.path.join(test_dir, img)\n",
        "        img_data = cv2.imread(path)\n",
        "        img_data = cv2.resize(img_data, (IMG_SIZE, IMG_SIZE))\n",
        "        test_data.append([np.array(img_data),create_label(img)])\n",
        "\n",
        "    np.save('test_data.npy', test_data)\n",
        "    return test_data"
      ]
    },
    {
      "cell_type": "code",
      "source": [],
      "metadata": {
        "id": "ecN3TKxDbtCn"
      },
      "execution_count": null,
      "outputs": []
    },
    {
      "cell_type": "markdown",
      "metadata": {
        "id": "s7yJ9t-Ka_iA"
      },
      "source": [
        "## Algorithm CNN"
      ]
    },
    {
      "cell_type": "code",
      "execution_count": null,
      "metadata": {
        "id": "KyDL7Ctsa_iC",
        "colab": {
          "base_uri": "https://localhost:8080/"
        },
        "outputId": "a6f1399c-0880-441d-9fc9-a7326fbf2b4c"
      },
      "outputs": [
        {
          "output_type": "stream",
          "name": "stdout",
          "text": [
            "Training Step: 65  | total loss: \u001b[1m\u001b[32m1.11747\u001b[0m\u001b[0m | time: 50.427s\n",
            "\u001b[2K\r| Adam | epoch: 003 | loss: 1.11747 - acc: 0.5838 -- iter: 0704/1681\n"
          ]
        }
      ],
      "source": [
        "if os.path.exists(\"train_data.npy\"):\n",
        "    train_data=np.load(\"train_data.npy\", allow_pickle=True)\n",
        "else:\n",
        "    train_data = create_train_data()\n",
        "\n",
        "\n",
        "    \n",
        "if os.path.exists(\"test_data.npy\"):\n",
        "    test_data=np.load(\"test_data.npy\", allow_pickle=True)\n",
        "else:\n",
        "    test_data = create_test_data()\n",
        "\n",
        "train = train_data\n",
        "test = test_data\n",
        "X_train = np.array([i[0] for i in train]).reshape(-1, IMG_SIZE, IMG_SIZE, 3)\n",
        "y_train = np.array([i[1] for i in train])\n",
        "print(X_train.shape)\n",
        "print(y_train.shape)\n",
        "y_train = y_train.reshape(-1, 6)\n",
        "X_test = np.array([i[0] for i in test]).reshape(-1, IMG_SIZE, IMG_SIZE, 3)\n",
        "y_test = np.array([i[1] for i in test])\n",
        "print(X_test.shape)\n",
        "print(y_test.shape)\n",
        "tf.compat.v1.reset_default_graph()\n",
        "conv_input = input_data(shape=[None, IMG_SIZE, IMG_SIZE, 3], name='input')\n",
        "conv1 = conv_2d(conv_input, 32, 5, activation='relu')\n",
        "pool1 = max_pool_2d(conv1, 5)\n",
        "\n",
        "conv2 = conv_2d(pool1, 64, 5, activation='relu')\n",
        "pool2 = max_pool_2d(conv2, 5)\n",
        "\n",
        "conv3 = conv_2d(pool2, 128, 5, activation='relu')\n",
        "pool3 = max_pool_2d(conv3, 5)\n",
        "\n",
        "conv4 = conv_2d(pool3, 64, 5, activation='relu')\n",
        "pool4 = max_pool_2d(conv4, 5)\n",
        "\n",
        "conv5 = conv_2d(pool4, 32, 5, activation='relu')\n",
        "pool5 = max_pool_2d(conv5, 5)\n",
        "fully_layer = fully_connected(pool5, 1024, activation='relu')\n",
        "fully_layer = dropout(fully_layer, 0.5)\n",
        "\n",
        "cnn_layers = fully_connected(fully_layer, 6, activation='softmax')\n",
        "\n",
        "cnn_layers = regression(cnn_layers, optimizer='adam', learning_rate=LR, loss='categorical_crossentropy', name='targets')\n",
        "model = tflearn.DNN(cnn_layers, tensorboard_dir='log', tensorboard_verbose=3)\n",
        "print (X_train.shape)\n",
        "\n",
        "if (os.path.exists('model.tfl.meta')):\n",
        "    model.load('./model.tfl')\n",
        "else:\n",
        "    model.fit( X_train, y_train, n_epoch=10,\n",
        "    validation_set=(X_test,y_test),\n",
        "    snapshot_step=500, show_metric=True, run_id='cnn1')\n",
        "    model.save('model.tfl')\n",
        "    model.p\n",
        "plt.show()\n"
      ]
    },
    {
      "cell_type": "markdown",
      "source": [
        "## Algorithm Inception v2.0\n"
      ],
      "metadata": {
        "id": "jb1xuMTaYA__"
      }
    },
    {
      "cell_type": "code",
      "source": [],
      "metadata": {
        "id": "ukmMk8tkcuEw"
      },
      "execution_count": null,
      "outputs": []
    },
    {
      "cell_type": "code",
      "source": [
        "\n",
        "  conv_input = input_data(shape=[None, IMG_SIZE, IMG_SIZE, 3], name='input')\n",
        "  conv1 = conv_2d(conv_input, 32, 1, activation='relu')\n",
        "\n",
        "  conv2 = conv_2d(conv_input, 32, 1, activation='relu')\n",
        "  conv2 = conv_2d(conv2, 32, 3, activation='relu')\n",
        "\n",
        "  conv3 = conv_2d(conv_input, 32, 1, activation='relu')\n",
        "  conv3 = conv_2d(conv3, 48, 3, activation='relu')\n",
        "  conv3 = conv_2d(conv3, 64, 3, activation='relu')\n",
        "\n",
        "  pool1 = max_pool_2d(conv_input, 3)\n",
        "  conv4 = conv_2d(pool1, 64, 1, activation='relu')\n",
        "  full_layer = tf.concat(axis=4, values=[conv1, conv2, conv3, conv4])\n",
        "  fully_layer = dropout(fully_layer, 0.5)\n",
        "\n",
        "cnn_layers = fully_connected(fully_layer, 6, activation='softmax')\n",
        "cnn_layers = regression(cnn_layers, optimizer='adam', learning_rate=LR, loss='categorical_crossentropy', name='targets')\n",
        "model = tflearn.DNN(cnn_layers, tensorboard_dir='log', tensorboard_verbose=3)\n",
        "print (X_train.shape)\n",
        "\n",
        "if (os.path.exists('model.tfl.meta')):\n",
        "    model.load('./model.tfl')\n",
        "else:\n",
        "    model.fit( X_train, y_train, n_epoch=10,\n",
        "    validation_set=(X_test,y_test),\n",
        "    snapshot_step=500, show_metric=True, run_id='cnn1')\n",
        "    model.save('model.tfl')\n",
        "\n",
        "plt.show()\n",
        "\n",
        "  "
      ],
      "metadata": {
        "id": "XbuSg4pAYKwQ"
      },
      "execution_count": null,
      "outputs": []
    },
    {
      "cell_type": "markdown",
      "source": [
        "##VGG19"
      ],
      "metadata": {
        "id": "3Mdfe2oTbc8-"
      }
    },
    {
      "cell_type": "code",
      "source": [
        "import random\n",
        "import cv2\n",
        "from keras.datasets import cifar10\n",
        "from keras.utils import to_categorical\n",
        "from keras.models import Model\n",
        "from keras.layers import Dense, GlobalAveragePooling2D, Dropout\n",
        "from keras.optimizers import SGD\n",
        "from keras.applications.vgg19 import VGG19\n",
        "import numpy as np\n",
        "from IPython.display import SVG\n",
        "from keras.utils.vis_utils import model_to_dot\n",
        "# vgg_model = VGG19(weights='imagenet', include_top=False)\n",
        "# SVG(model_to_dot(vgg_model).create(prog='dot', format='svg'))"
      ],
      "metadata": {
        "id": "TNySRIhSbcZq"
      },
      "execution_count": null,
      "outputs": []
    },
    {
      "cell_type": "code",
      "source": [
        "from sklearn.model_selection import train_test_split\n",
        "IMG_SIZE = 224\n",
        "train_data = create_train_data()\n",
        "test_data = create_test_data()\n",
        "train = train_data\n",
        "test = test_data\n",
        "X_train = np.array([i[0] for i in train]).reshape(-1, IMG_SIZE, IMG_SIZE, 3)\n",
        "y_train = np.array([i[1] for i in train])\n",
        "\n",
        "y_train = y_train.reshape(-1, 6)\n",
        "X_test = np.array([i[0] for i in test]).reshape(-1, IMG_SIZE, IMG_SIZE, 3)\n",
        "y_test = np.array([i[1] for i in test])\n",
        "\n",
        "train_images, validation_images, train_labels, validation_labels = train_test_split(X_train, y_train,\n",
        "    test_size=0.1, random_state= 8)"
      ],
      "metadata": {
        "colab": {
          "base_uri": "https://localhost:8080/"
        },
        "id": "5Q_pcqHmbiKF",
        "outputId": "6b1d6423-4204-4ca5-8712-40e644a10447"
      },
      "execution_count": null,
      "outputs": [
        {
          "output_type": "stream",
          "name": "stderr",
          "text": [
            "/usr/local/lib/python3.8/dist-packages/numpy/lib/npyio.py:528: VisibleDeprecationWarning: Creating an ndarray from ragged nested sequences (which is a list-or-tuple of lists-or-tuples-or ndarrays with different lengths or shapes) is deprecated. If you meant to do this, you must specify 'dtype=object' when creating the ndarray.\n",
            "  arr = np.asanyarray(arr)\n"
          ]
        }
      ]
    },
    {
      "cell_type": "code",
      "source": [
        "def resize_data(data):\n",
        "    data_upscaled = np.zeros((data.shape[0], 224, 224, 3))\n",
        "    for i, img in enumerate(data):\n",
        "        large_img = cv2.resize(img, dsize=(224, 224), interpolation=cv2.INTER_CUBIC)\n",
        "        data_upscaled[i] = large_img\n",
        "\n",
        "    return data_upscaled"
      ],
      "metadata": {
        "id": "HbhiL8ZGdNEz"
      },
      "execution_count": null,
      "outputs": []
    },
    {
      "cell_type": "code",
      "source": [
        "x_train_resized = resize_data(X_train)\n",
        "x_test_resized = resize_data(X_test)\n",
        "\n",
        "# make explained variable hot-encoded\n",
        "y_train_hot_encoded = to_categorical(y_train)\n",
        "y_test_hot_encoded = to_categorical(y_test)\n"
      ],
      "metadata": {
        "id": "gDWTAXNedaZs"
      },
      "execution_count": null,
      "outputs": []
    },
    {
      "cell_type": "markdown",
      "source": [
        "##VGG16 ALGORITHM RAW"
      ],
      "metadata": {
        "id": "lpI4VXB4rItR"
      }
    },
    {
      "cell_type": "code",
      "source": [
        "from keras.applications import VGG16\n",
        "from keras.layers import Flatten, Dense, BatchNormalization, Activation,Dropout\n",
        "\n",
        "vgg_model = VGG16(weights='imagenet', include_top=False, input_shape=(224, 224, 3))\n",
        "\n",
        "# Freeze four convolution blocks\n",
        "for layer in vgg_model.layers[:15]:\n",
        "    layer.trainable = False\n",
        "# Make sure you have frozen the correct layers\n",
        "for i, layer in enumerate(vgg_model.layers):\n",
        "    print(i, layer.name, layer.trainable)\n",
        "\n",
        "x = vgg_model.output\n",
        "x = Flatten()(x) # Flatten dimensions to for use in FC layers\n",
        "x = Dense(512, activation='relu')(x)\n",
        "x = Dropout(0.5)(x) # Dropout layer to reduce overfitting\n",
        "x = Dense(256, activation='relu')(x)\n",
        "x = Dense(6, activation='softmax')(x) # Softmax for multiclass\n",
        "transfer_model = Model(inputs=vgg_model.input, outputs=x)\n",
        "\n",
        "from keras.callbacks import ModelCheckpoint\n",
        "from keras.callbacks import ReduceLROnPlateau\n",
        "lr_reduce = ReduceLROnPlateau(monitor='loss', factor=0.6, patience=8, verbose=1, mode='max', min_lr=5e-5)\n",
        "checkpoint = ModelCheckpoint('vgg16_finetune.h15', monitor= 'val_accuracy', mode= 'max', save_best_only = True, verbose= 1)\n",
        "\n",
        "from keras import layers, models, Model, optimizers\n",
        "learning_rate= 5e-5\n",
        "transfer_model.compile(loss=\"categorical_crossentropy\", optimizer=optimizers.Adam(lr=learning_rate), metrics=[\"accuracy\"])\n",
        "history = transfer_model.fit(X_train, y_train, batch_size = 1, epochs=50, validation_data=(X_test,y_test), callbacks=[lr_reduce,checkpoint])\n",
        "\n",
        "import matplotlib.pyplot as plt\n",
        "def show_history(history):\n",
        "    plt.plot(history.history['acc'])\n",
        "    plt.plot(history.history['val_acc'])\n",
        "    plt.ylabel('accuracy')\n",
        "    plt.xlabel('epoch')\n",
        "    plt.legend(['train_accuracy', 'test_accuracy'], loc='best')\n",
        "    plt.show()\n",
        "\n",
        "show_history(history)\n",
        "\n",
        "\n"
      ],
      "metadata": {
        "colab": {
          "base_uri": "https://localhost:8080/",
          "height": 1000
        },
        "id": "LOIf2EH5hrKt",
        "outputId": "78c692ee-a35d-4cf1-f8a7-ae987c2c1eb6"
      },
      "execution_count": null,
      "outputs": [
        {
          "output_type": "stream",
          "name": "stdout",
          "text": [
            "Downloading data from https://storage.googleapis.com/tensorflow/keras-applications/vgg16/vgg16_weights_tf_dim_ordering_tf_kernels_notop.h5\n",
            "58889256/58889256 [==============================] - 4s 0us/step\n",
            "0 input_1 False\n",
            "1 block1_conv1 False\n",
            "2 block1_conv2 False\n",
            "3 block1_pool False\n",
            "4 block2_conv1 False\n",
            "5 block2_conv2 False\n",
            "6 block2_pool False\n",
            "7 block3_conv1 False\n",
            "8 block3_conv2 False\n",
            "9 block3_conv3 False\n",
            "10 block3_pool False\n",
            "11 block4_conv1 False\n",
            "12 block4_conv2 False\n",
            "13 block4_conv3 False\n",
            "14 block4_pool False\n",
            "15 block5_conv1 True\n",
            "16 block5_conv2 True\n",
            "17 block5_conv3 True\n",
            "18 block5_pool True\n"
          ]
        },
        {
          "output_type": "stream",
          "name": "stderr",
          "text": [
            "/usr/local/lib/python3.8/dist-packages/keras/optimizers/optimizer_v2/adam.py:110: UserWarning: The `lr` argument is deprecated, use `learning_rate` instead.\n",
            "  super(Adam, self).__init__(name, **kwargs)\n"
          ]
        },
        {
          "output_type": "stream",
          "name": "stdout",
          "text": [
            "Train on 1681 samples, validate on 688 samples\n",
            "Epoch 1/50\n",
            "1679/1681 [============================>.] - ETA: 0s - loss: 1.7779 - acc: 0.6093"
          ]
        },
        {
          "output_type": "stream",
          "name": "stderr",
          "text": [
            "/usr/local/lib/python3.8/dist-packages/keras/engine/training_v1.py:2045: UserWarning: `Model.state_updates` will be removed in a future version. This property should not be used in TensorFlow 2.0, as `updates` are applied automatically.\n",
            "  updates = self.state_updates\n",
            "WARNING:tensorflow:Can save best model only with val_accuracy available, skipping.\n"
          ]
        },
        {
          "output_type": "stream",
          "name": "stdout",
          "text": [
            "\b\b\b\b\b\b\b\b\b\b\b\b\b\b\b\b\b\b\b\b\b\b\b\b\b\b\b\b\b\b\b\b\b\b\b\b\b\b\b\b\b\b\b\b\b\b\b\b\b\b\b\b\b\b\b\b\b\b\b\b\b\b\b\b\b\b\b\b\b\b\b\b\b\b\b\b\b\b\b\b\b\r1681/1681 [==============================] - 49s 24ms/sample - loss: 1.7766 - acc: 0.6092 - val_loss: 0.0000e+00 - val_acc: 0.2849 - lr: 5.0000e-05\n",
            "Epoch 2/50\n",
            "1680/1681 [============================>.] - ETA: 0s - loss: 0.5855 - acc: 0.8321"
          ]
        },
        {
          "output_type": "stream",
          "name": "stderr",
          "text": [
            "WARNING:tensorflow:Can save best model only with val_accuracy available, skipping.\n"
          ]
        },
        {
          "output_type": "stream",
          "name": "stdout",
          "text": [
            "\b\b\b\b\b\b\b\b\b\b\b\b\b\b\b\b\b\b\b\b\b\b\b\b\b\b\b\b\b\b\b\b\b\b\b\b\b\b\b\b\b\b\b\b\b\b\b\b\b\b\b\b\b\b\b\b\b\b\b\b\b\b\b\b\b\b\b\b\b\b\b\b\b\b\b\b\b\b\b\b\b\r1681/1681 [==============================] - 39s 23ms/sample - loss: 0.5852 - acc: 0.8322 - val_loss: 0.0000e+00 - val_acc: 0.0654 - lr: 5.0000e-05\n",
            "Epoch 3/50\n",
            "1679/1681 [============================>.] - ETA: 0s - loss: 0.4868 - acc: 0.8725"
          ]
        },
        {
          "output_type": "stream",
          "name": "stderr",
          "text": [
            "WARNING:tensorflow:Can save best model only with val_accuracy available, skipping.\n"
          ]
        },
        {
          "output_type": "stream",
          "name": "stdout",
          "text": [
            "\b\b\b\b\b\b\b\b\b\b\b\b\b\b\b\b\b\b\b\b\b\b\b\b\b\b\b\b\b\b\b\b\b\b\b\b\b\b\b\b\b\b\b\b\b\b\b\b\b\b\b\b\b\b\b\b\b\b\b\b\b\b\b\b\b\b\b\b\b\b\b\b\b\b\b\b\b\b\b\b\b\r1681/1681 [==============================] - 41s 24ms/sample - loss: 0.4863 - acc: 0.8727 - val_loss: 0.0000e+00 - val_acc: 0.1410 - lr: 5.0000e-05\n",
            "Epoch 4/50\n",
            "1681/1681 [==============================] - ETA: 0s - loss: 0.3286 - acc: 0.9114"
          ]
        },
        {
          "output_type": "stream",
          "name": "stderr",
          "text": [
            "WARNING:tensorflow:Can save best model only with val_accuracy available, skipping.\n"
          ]
        },
        {
          "output_type": "stream",
          "name": "stdout",
          "text": [
            "\b\b\b\b\b\b\b\b\b\b\b\b\b\b\b\b\b\b\b\b\b\b\b\b\b\b\b\b\b\b\b\b\b\b\b\b\b\b\b\b\b\b\b\b\b\b\b\b\b\b\b\b\b\b\b\b\b\b\b\b\b\b\b\b\b\b\b\b\b\b\b\b\b\b\b\b\b\b\b\b\b\r1681/1681 [==============================] - 39s 23ms/sample - loss: 0.3286 - acc: 0.9114 - val_loss: 0.0000e+00 - val_acc: 0.1512 - lr: 5.0000e-05\n",
            "Epoch 5/50\n",
            "1681/1681 [==============================] - ETA: 0s - loss: 0.3549 - acc: 0.9102"
          ]
        },
        {
          "output_type": "stream",
          "name": "stderr",
          "text": [
            "WARNING:tensorflow:Can save best model only with val_accuracy available, skipping.\n"
          ]
        },
        {
          "output_type": "stream",
          "name": "stdout",
          "text": [
            "\b\b\b\b\b\b\b\b\b\b\b\b\b\b\b\b\b\b\b\b\b\b\b\b\b\b\b\b\b\b\b\b\b\b\b\b\b\b\b\b\b\b\b\b\b\b\b\b\b\b\b\b\b\b\b\b\b\b\b\b\b\b\b\b\b\b\b\b\b\b\b\b\b\b\b\b\b\b\b\b\b\r1681/1681 [==============================] - 39s 23ms/sample - loss: 0.3549 - acc: 0.9102 - val_loss: 0.0000e+00 - val_acc: 0.0828 - lr: 5.0000e-05\n",
            "Epoch 6/50\n",
            "1680/1681 [============================>.] - ETA: 0s - loss: 0.2694 - acc: 0.9351"
          ]
        },
        {
          "output_type": "stream",
          "name": "stderr",
          "text": [
            "WARNING:tensorflow:Can save best model only with val_accuracy available, skipping.\n"
          ]
        },
        {
          "output_type": "stream",
          "name": "stdout",
          "text": [
            "\b\b\b\b\b\b\b\b\b\b\b\b\b\b\b\b\b\b\b\b\b\b\b\b\b\b\b\b\b\b\b\b\b\b\b\b\b\b\b\b\b\b\b\b\b\b\b\b\b\b\b\b\b\b\b\b\b\b\b\b\b\b\b\b\b\b\b\b\b\b\b\b\b\b\b\b\b\b\b\b\b\r1681/1681 [==============================] - 39s 23ms/sample - loss: 0.2702 - acc: 0.9346 - val_loss: 0.0000e+00 - val_acc: 0.0770 - lr: 5.0000e-05\n",
            "Epoch 7/50\n",
            "1680/1681 [============================>.] - ETA: 0s - loss: 0.2511 - acc: 0.9417"
          ]
        },
        {
          "output_type": "stream",
          "name": "stderr",
          "text": [
            "WARNING:tensorflow:Can save best model only with val_accuracy available, skipping.\n"
          ]
        },
        {
          "output_type": "stream",
          "name": "stdout",
          "text": [
            "\b\b\b\b\b\b\b\b\b\b\b\b\b\b\b\b\b\b\b\b\b\b\b\b\b\b\b\b\b\b\b\b\b\b\b\b\b\b\b\b\b\b\b\b\b\b\b\b\b\b\b\b\b\b\b\b\b\b\b\b\b\b\b\b\b\b\b\b\b\b\b\b\b\b\b\b\b\b\b\b\b\r1681/1681 [==============================] - 40s 24ms/sample - loss: 0.2510 - acc: 0.9417 - val_loss: 0.0000e+00 - val_acc: 0.1802 - lr: 5.0000e-05\n",
            "Epoch 8/50\n",
            "1681/1681 [==============================] - ETA: 0s - loss: 0.2511 - acc: 0.9381"
          ]
        },
        {
          "output_type": "stream",
          "name": "stderr",
          "text": [
            "WARNING:tensorflow:Can save best model only with val_accuracy available, skipping.\n"
          ]
        },
        {
          "output_type": "stream",
          "name": "stdout",
          "text": [
            "\b\b\b\b\b\b\b\b\b\b\b\b\b\b\b\b\b\b\b\b\b\b\b\b\b\b\b\b\b\b\b\b\b\b\b\b\b\b\b\b\b\b\b\b\b\b\b\b\b\b\b\b\b\b\b\b\b\b\b\b\b\b\b\b\b\b\b\b\b\b\b\b\b\b\b\b\b\b\b\b\b\r1681/1681 [==============================] - 40s 24ms/sample - loss: 0.2511 - acc: 0.9381 - val_loss: 0.0000e+00 - val_acc: 0.0974 - lr: 5.0000e-05\n",
            "Epoch 9/50\n",
            "1680/1681 [============================>.] - ETA: 0s - loss: 0.2930 - acc: 0.9345"
          ]
        },
        {
          "output_type": "stream",
          "name": "stderr",
          "text": [
            "WARNING:tensorflow:Can save best model only with val_accuracy available, skipping.\n"
          ]
        },
        {
          "output_type": "stream",
          "name": "stdout",
          "text": [
            "\b\b\b\b\b\b\b\b\b\b\b\b\b\b\b\b\b\b\b\b\b\b\b\b\b\b\b\b\b\b\b\b\b\b\b\b\b\b\b\b\b\b\b\b\b\b\b\b\b\b\b\b\b\b\b\b\b\b\b\b\b\b\b\b\b\b\b\b\b\b\b\b\b\b\b\b\b\b\b\b\b\r1681/1681 [==============================] - 41s 25ms/sample - loss: 0.2930 - acc: 0.9346 - val_loss: 0.0000e+00 - val_acc: 0.0843 - lr: 5.0000e-05\n",
            "Epoch 10/50\n",
            "1681/1681 [==============================] - ETA: 0s - loss: 0.2572 - acc: 0.9459"
          ]
        },
        {
          "output_type": "stream",
          "name": "stderr",
          "text": [
            "WARNING:tensorflow:Can save best model only with val_accuracy available, skipping.\n"
          ]
        },
        {
          "output_type": "stream",
          "name": "stdout",
          "text": [
            "\b\b\b\b\b\b\b\b\b\b\b\b\b\b\b\b\b\b\b\b\b\b\b\b\b\b\b\b\b\b\b\b\b\b\b\b\b\b\b\b\b\b\b\b\b\b\b\b\b\b\b\b\b\b\b\b\b\b\b\b\b\b\b\b\b\b\b\b\b\b\b\b\b\b\b\b\b\b\b\b\b\r1681/1681 [==============================] - 39s 23ms/sample - loss: 0.2572 - acc: 0.9459 - val_loss: 0.0000e+00 - val_acc: 0.1526 - lr: 5.0000e-05\n",
            "Epoch 11/50\n",
            "1679/1681 [============================>.] - ETA: 0s - loss: 0.1355 - acc: 0.9708"
          ]
        },
        {
          "output_type": "stream",
          "name": "stderr",
          "text": [
            "WARNING:tensorflow:Can save best model only with val_accuracy available, skipping.\n"
          ]
        },
        {
          "output_type": "stream",
          "name": "stdout",
          "text": [
            "\b\b\b\b\b\b\b\b\b\b\b\b\b\b\b\b\b\b\b\b\b\b\b\b\b\b\b\b\b\b\b\b\b\b\b\b\b\b\b\b\b\b\b\b\b\b\b\b\b\b\b\b\b\b\b\b\b\b\b\b\b\b\b\b\b\b\b\b\b\b\b\b\b\b\b\b\b\b\b\b\b\r1681/1681 [==============================] - 39s 23ms/sample - loss: 0.1353 - acc: 0.9709 - val_loss: 0.0000e+00 - val_acc: 0.1032 - lr: 5.0000e-05\n",
            "Epoch 12/50\n",
            "1680/1681 [============================>.] - ETA: 0s - loss: 0.2764 - acc: 0.9530"
          ]
        },
        {
          "output_type": "stream",
          "name": "stderr",
          "text": [
            "WARNING:tensorflow:Can save best model only with val_accuracy available, skipping.\n"
          ]
        },
        {
          "output_type": "stream",
          "name": "stdout",
          "text": [
            "\b\b\b\b\b\b\b\b\b\b\b\b\b\b\b\b\b\b\b\b\b\b\b\b\b\b\b\b\b\b\b\b\b\b\b\b\b\b\b\b\b\b\b\b\b\b\b\b\b\b\b\b\b\b\b\b\b\b\b\b\b\b\b\b\b\b\b\b\b\b\b\b\b\b\b\b\b\b\b\b\b\r1681/1681 [==============================] - 40s 24ms/sample - loss: 0.2763 - acc: 0.9530 - val_loss: 0.0000e+00 - val_acc: 0.0741 - lr: 5.0000e-05\n",
            "Epoch 13/50\n",
            "1680/1681 [============================>.] - ETA: 0s - loss: 0.0833 - acc: 0.9833"
          ]
        },
        {
          "output_type": "stream",
          "name": "stderr",
          "text": [
            "WARNING:tensorflow:Can save best model only with val_accuracy available, skipping.\n"
          ]
        },
        {
          "output_type": "stream",
          "name": "stdout",
          "text": [
            "\b\b\b\b\b\b\b\b\b\b\b\b\b\b\b\b\b\b\b\b\b\b\b\b\b\b\b\b\b\b\b\b\b\b\b\b\b\b\b\b\b\b\b\b\b\b\b\b\b\b\b\b\b\b\b\b\b\b\b\b\b\b\b\b\b\b\b\b\b\b\b\b\b\b\b\b\b\b\b\b\b\r1681/1681 [==============================] - 40s 24ms/sample - loss: 0.0832 - acc: 0.9833 - val_loss: 0.0000e+00 - val_acc: 0.1003 - lr: 5.0000e-05\n",
            "Epoch 14/50\n",
            "1680/1681 [============================>.] - ETA: 0s - loss: 0.3476 - acc: 0.9613"
          ]
        },
        {
          "output_type": "stream",
          "name": "stderr",
          "text": [
            "WARNING:tensorflow:Can save best model only with val_accuracy available, skipping.\n"
          ]
        },
        {
          "output_type": "stream",
          "name": "stdout",
          "text": [
            "\b\b\b\b\b\b\b\b\b\b\b\b\b\b\b\b\b\b\b\b\b\b\b\b\b\b\b\b\b\b\b\b\b\b\b\b\b\b\b\b\b\b\b\b\b\b\b\b\b\b\b\b\b\b\b\b\b\b\b\b\b\b\b\b\b\b\b\b\b\b\b\b\b\b\b\b\b\b\b\b\b\r1681/1681 [==============================] - 39s 23ms/sample - loss: 0.3474 - acc: 0.9613 - val_loss: 0.0000e+00 - val_acc: 0.1323 - lr: 5.0000e-05\n",
            "Epoch 15/50\n",
            "1681/1681 [==============================] - ETA: 0s - loss: 0.0856 - acc: 0.9810"
          ]
        },
        {
          "output_type": "stream",
          "name": "stderr",
          "text": [
            "WARNING:tensorflow:Can save best model only with val_accuracy available, skipping.\n"
          ]
        },
        {
          "output_type": "stream",
          "name": "stdout",
          "text": [
            "\b\b\b\b\b\b\b\b\b\b\b\b\b\b\b\b\b\b\b\b\b\b\b\b\b\b\b\b\b\b\b\b\b\b\b\b\b\b\b\b\b\b\b\b\b\b\b\b\b\b\b\b\b\b\b\b\b\b\b\b\b\b\b\b\b\b\b\b\b\b\b\b\b\b\b\b\b\b\b\b\b\r1681/1681 [==============================] - 39s 23ms/sample - loss: 0.0856 - acc: 0.9810 - val_loss: 0.0000e+00 - val_acc: 0.1206 - lr: 5.0000e-05\n",
            "Epoch 16/50\n",
            "1679/1681 [============================>.] - ETA: 0s - loss: 0.2974 - acc: 0.9672"
          ]
        },
        {
          "output_type": "stream",
          "name": "stderr",
          "text": [
            "WARNING:tensorflow:Can save best model only with val_accuracy available, skipping.\n"
          ]
        },
        {
          "output_type": "stream",
          "name": "stdout",
          "text": [
            "\b\b\b\b\b\b\b\b\b\b\b\b\b\b\b\b\b\b\b\b\b\b\b\b\b\b\b\b\b\b\b\b\b\b\b\b\b\b\b\b\b\b\b\b\b\b\b\b\b\b\b\b\b\b\b\b\b\b\b\b\b\b\b\b\b\b\b\b\b\b\b\b\b\b\b\b\b\b\b\b\b\r1681/1681 [==============================] - 39s 23ms/sample - loss: 0.3371 - acc: 0.9667 - val_loss: 0.0000e+00 - val_acc: 0.1817 - lr: 5.0000e-05\n",
            "Epoch 17/50\n",
            "1680/1681 [============================>.] - ETA: 0s - loss: 0.1721 - acc: 0.9732"
          ]
        },
        {
          "output_type": "stream",
          "name": "stderr",
          "text": [
            "WARNING:tensorflow:Can save best model only with val_accuracy available, skipping.\n"
          ]
        },
        {
          "output_type": "stream",
          "name": "stdout",
          "text": [
            "\b\b\b\b\b\b\b\b\b\b\b\b\b\b\b\b\b\b\b\b\b\b\b\b\b\b\b\b\b\b\b\b\b\b\b\b\b\b\b\b\b\b\b\b\b\b\b\b\b\b\b\b\b\b\b\b\b\b\b\b\b\b\b\b\b\b\b\b\b\b\b\b\b\b\b\b\b\b\b\b\b\r1681/1681 [==============================] - 39s 23ms/sample - loss: 0.1720 - acc: 0.9732 - val_loss: 0.0000e+00 - val_acc: 0.1148 - lr: 5.0000e-05\n",
            "Epoch 18/50\n",
            "1680/1681 [============================>.] - ETA: 0s - loss: 0.5710 - acc: 0.9518"
          ]
        },
        {
          "output_type": "stream",
          "name": "stderr",
          "text": [
            "WARNING:tensorflow:Can save best model only with val_accuracy available, skipping.\n"
          ]
        },
        {
          "output_type": "stream",
          "name": "stdout",
          "text": [
            "\b\b\b\b\b\b\b\b\b\b\b\b\b\b\b\b\b\b\b\b\b\b\b\b\b\b\b\b\b\b\b\b\b\b\b\b\b\b\b\b\b\b\b\b\b\b\b\b\b\b\b\b\b\b\b\b\b\b\b\b\b\b\b\b\b\b\b\b\b\b\b\b\b\b\b\b\b\b\b\b\b\r1681/1681 [==============================] - 39s 23ms/sample - loss: 0.5707 - acc: 0.9518 - val_loss: 0.0000e+00 - val_acc: 0.1323 - lr: 5.0000e-05\n",
            "Epoch 19/50\n",
            "1681/1681 [==============================] - ETA: 0s - loss: 0.0478 - acc: 0.9869"
          ]
        },
        {
          "output_type": "stream",
          "name": "stderr",
          "text": [
            "WARNING:tensorflow:Can save best model only with val_accuracy available, skipping.\n"
          ]
        },
        {
          "output_type": "stream",
          "name": "stdout",
          "text": [
            "\b\b\b\b\b\b\b\b\b\b\b\b\b\b\b\b\b\b\b\b\b\b\b\b\b\b\b\b\b\b\b\b\b\b\b\b\b\b\b\b\b\b\b\b\b\b\b\b\b\b\b\b\b\b\b\b\b\b\b\b\b\b\b\b\b\b\b\b\b\b\b\b\b\b\b\b\b\b\b\b\b\r1681/1681 [==============================] - 39s 23ms/sample - loss: 0.0478 - acc: 0.9869 - val_loss: 0.0000e+00 - val_acc: 0.1061 - lr: 5.0000e-05\n",
            "Epoch 20/50\n",
            "1680/1681 [============================>.] - ETA: 0s - loss: 0.0817 - acc: 0.9839"
          ]
        },
        {
          "output_type": "stream",
          "name": "stderr",
          "text": [
            "WARNING:tensorflow:Can save best model only with val_accuracy available, skipping.\n"
          ]
        },
        {
          "output_type": "stream",
          "name": "stdout",
          "text": [
            "\b\b\b\b\b\b\b\b\b\b\b\b\b\b\b\b\b\b\b\b\b\b\b\b\b\b\b\b\b\b\b\b\b\b\b\b\b\b\b\b\b\b\b\b\b\b\b\b\b\b\b\b\b\b\b\b\b\b\b\b\b\b\b\b\b\b\b\b\b\b\b\b\b\b\b\b\b\b\b\b\b\r1681/1681 [==============================] - 39s 23ms/sample - loss: 0.0817 - acc: 0.9839 - val_loss: 0.0000e+00 - val_acc: 0.0799 - lr: 5.0000e-05\n",
            "Epoch 21/50\n",
            "1679/1681 [============================>.] - ETA: 0s - loss: 0.2726 - acc: 0.9702"
          ]
        },
        {
          "output_type": "stream",
          "name": "stderr",
          "text": [
            "WARNING:tensorflow:Can save best model only with val_accuracy available, skipping.\n"
          ]
        },
        {
          "output_type": "stream",
          "name": "stdout",
          "text": [
            "\b\b\b\b\b\b\b\b\b\b\b\b\b\b\b\b\b\b\b\b\b\b\b\b\b\b\b\b\b\b\b\b\b\b\b\b\b\b\b\b\b\b\b\b\b\b\b\b\b\b\b\b\b\b\b\b\b\b\b\b\b\b\b\b\b\b\b\b\b\b\b\b\b\b\b\b\b\b\b\b\b\r1681/1681 [==============================] - 41s 24ms/sample - loss: 0.2733 - acc: 0.9697 - val_loss: 0.0000e+00 - val_acc: 0.1105 - lr: 5.0000e-05\n",
            "Epoch 22/50\n",
            "1680/1681 [============================>.] - ETA: 0s - loss: 0.1355 - acc: 0.9792"
          ]
        },
        {
          "output_type": "stream",
          "name": "stderr",
          "text": [
            "WARNING:tensorflow:Can save best model only with val_accuracy available, skipping.\n"
          ]
        },
        {
          "output_type": "stream",
          "name": "stdout",
          "text": [
            "\b\b\b\b\b\b\b\b\b\b\b\b\b\b\b\b\b\b\b\b\b\b\b\b\b\b\b\b\b\b\b\b\b\b\b\b\b\b\b\b\b\b\b\b\b\b\b\b\b\b\b\b\b\b\b\b\b\b\b\b\b\b\b\b\b\b\b\b\b\b\b\b\b\b\b\b\b\b\b\b\b\r1681/1681 [==============================] - 40s 24ms/sample - loss: 0.1354 - acc: 0.9792 - val_loss: 0.0000e+00 - val_acc: 0.1962 - lr: 5.0000e-05\n",
            "Epoch 23/50\n",
            "1681/1681 [==============================] - ETA: 0s - loss: 0.2607 - acc: 0.9738"
          ]
        },
        {
          "output_type": "stream",
          "name": "stderr",
          "text": [
            "WARNING:tensorflow:Can save best model only with val_accuracy available, skipping.\n"
          ]
        },
        {
          "output_type": "stream",
          "name": "stdout",
          "text": [
            "\b\b\b\b\b\b\b\b\b\b\b\b\b\b\b\b\b\b\b\b\b\b\b\b\b\b\b\b\b\b\b\b\b\b\b\b\b\b\b\b\b\b\b\b\b\b\b\b\b\b\b\b\b\b\b\b\b\b\b\b\b\b\b\b\b\b\b\b\b\b\b\b\b\b\b\b\b\b\b\b\b\r1681/1681 [==============================] - 39s 23ms/sample - loss: 0.2607 - acc: 0.9738 - val_loss: 0.0000e+00 - val_acc: 0.1105 - lr: 5.0000e-05\n",
            "Epoch 24/50\n",
            "1680/1681 [============================>.] - ETA: 0s - loss: 0.2434 - acc: 0.9768"
          ]
        },
        {
          "output_type": "stream",
          "name": "stderr",
          "text": [
            "WARNING:tensorflow:Can save best model only with val_accuracy available, skipping.\n"
          ]
        },
        {
          "output_type": "stream",
          "name": "stdout",
          "text": [
            "\b\b\b\b\b\b\b\b\b\b\b\b\b\b\b\b\b\b\b\b\b\b\b\b\b\b\b\b\b\b\b\b\b\b\b\b\b\b\b\b\b\b\b\b\b\b\b\b\b\b\b\b\b\b\b\b\b\b\b\b\b\b\b\b\b\b\b\b\b\b\b\b\b\b\b\b\b\b\b\b\b\r1681/1681 [==============================] - 39s 23ms/sample - loss: 0.2432 - acc: 0.9768 - val_loss: 0.0000e+00 - val_acc: 0.1570 - lr: 5.0000e-05\n",
            "Epoch 25/50\n",
            "1680/1681 [============================>.] - ETA: 0s - loss: 0.3074 - acc: 0.9714"
          ]
        },
        {
          "output_type": "stream",
          "name": "stderr",
          "text": [
            "WARNING:tensorflow:Can save best model only with val_accuracy available, skipping.\n"
          ]
        },
        {
          "output_type": "stream",
          "name": "stdout",
          "text": [
            "\b\b\b\b\b\b\b\b\b\b\b\b\b\b\b\b\b\b\b\b\b\b\b\b\b\b\b\b\b\b\b\b\b\b\b\b\b\b\b\b\b\b\b\b\b\b\b\b\b\b\b\b\b\b\b\b\b\b\b\b\b\b\b\b\b\b\b\b\b\b\b\b\b\b\b\b\b\b\b\b\b\r1681/1681 [==============================] - 39s 23ms/sample - loss: 0.3072 - acc: 0.9714 - val_loss: 0.0000e+00 - val_acc: 0.0945 - lr: 5.0000e-05\n",
            "Epoch 26/50\n",
            "1681/1681 [==============================] - ETA: 0s - loss: 0.0296 - acc: 0.9917"
          ]
        },
        {
          "output_type": "stream",
          "name": "stderr",
          "text": [
            "WARNING:tensorflow:Can save best model only with val_accuracy available, skipping.\n"
          ]
        },
        {
          "output_type": "stream",
          "name": "stdout",
          "text": [
            "\b\b\b\b\b\b\b\b\b\b\b\b\b\b\b\b\b\b\b\b\b\b\b\b\b\b\b\b\b\b\b\b\b\b\b\b\b\b\b\b\b\b\b\b\b\b\b\b\b\b\b\b\b\b\b\b\b\b\b\b\b\b\b\b\b\b\b\b\b\b\b\b\b\b\b\b\b\b\b\b\b\r1681/1681 [==============================] - 39s 23ms/sample - loss: 0.0296 - acc: 0.9917 - val_loss: 0.0000e+00 - val_acc: 0.1308 - lr: 5.0000e-05\n",
            "Epoch 27/50\n",
            "1681/1681 [==============================] - ETA: 0s - loss: 0.1618 - acc: 0.9845"
          ]
        },
        {
          "output_type": "stream",
          "name": "stderr",
          "text": [
            "WARNING:tensorflow:Can save best model only with val_accuracy available, skipping.\n"
          ]
        },
        {
          "output_type": "stream",
          "name": "stdout",
          "text": [
            "\b\b\b\b\b\b\b\b\b\b\b\b\b\b\b\b\b\b\b\b\b\b\b\b\b\b\b\b\b\b\b\b\b\b\b\b\b\b\b\b\b\b\b\b\b\b\b\b\b\b\b\b\b\b\b\b\b\b\b\b\b\b\b\b\b\b\b\b\b\b\b\b\b\b\b\b\b\b\b\b\b\r1681/1681 [==============================] - 39s 23ms/sample - loss: 0.1618 - acc: 0.9845 - val_loss: 0.0000e+00 - val_acc: 0.1323 - lr: 5.0000e-05\n",
            "Epoch 28/50\n",
            "1681/1681 [==============================] - ETA: 0s - loss: 0.3746 - acc: 0.9738"
          ]
        },
        {
          "output_type": "stream",
          "name": "stderr",
          "text": [
            "WARNING:tensorflow:Can save best model only with val_accuracy available, skipping.\n"
          ]
        },
        {
          "output_type": "stream",
          "name": "stdout",
          "text": [
            "\b\b\b\b\b\b\b\b\b\b\b\b\b\b\b\b\b\b\b\b\b\b\b\b\b\b\b\b\b\b\b\b\b\b\b\b\b\b\b\b\b\b\b\b\b\b\b\b\b\b\b\b\b\b\b\b\b\b\b\b\b\b\b\b\b\b\b\b\b\b\b\b\b\b\b\b\b\b\b\b\b\r1681/1681 [==============================] - 39s 23ms/sample - loss: 0.3746 - acc: 0.9738 - val_loss: 0.0000e+00 - val_acc: 0.1265 - lr: 5.0000e-05\n",
            "Epoch 29/50\n",
            "1681/1681 [==============================] - ETA: 0s - loss: 0.2913 - acc: 0.9798"
          ]
        },
        {
          "output_type": "stream",
          "name": "stderr",
          "text": [
            "WARNING:tensorflow:Can save best model only with val_accuracy available, skipping.\n"
          ]
        },
        {
          "output_type": "stream",
          "name": "stdout",
          "text": [
            "\b\b\b\b\b\b\b\b\b\b\b\b\b\b\b\b\b\b\b\b\b\b\b\b\b\b\b\b\b\b\b\b\b\b\b\b\b\b\b\b\b\b\b\b\b\b\b\b\b\b\b\b\b\b\b\b\b\b\b\b\b\b\b\b\b\b\b\b\b\b\b\b\b\b\b\b\b\b\b\b\b\r1681/1681 [==============================] - 38s 23ms/sample - loss: 0.2913 - acc: 0.9798 - val_loss: 0.0000e+00 - val_acc: 0.1047 - lr: 5.0000e-05\n",
            "Epoch 30/50\n",
            "1680/1681 [============================>.] - ETA: 0s - loss: 0.2375 - acc: 0.9833"
          ]
        },
        {
          "output_type": "stream",
          "name": "stderr",
          "text": [
            "WARNING:tensorflow:Can save best model only with val_accuracy available, skipping.\n"
          ]
        },
        {
          "output_type": "stream",
          "name": "stdout",
          "text": [
            "\b\b\b\b\b\b\b\b\b\b\b\b\b\b\b\b\b\b\b\b\b\b\b\b\b\b\b\b\b\b\b\b\b\b\b\b\b\b\b\b\b\b\b\b\b\b\b\b\b\b\b\b\b\b\b\b\b\b\b\b\b\b\b\b\b\b\b\b\b\b\b\b\b\b\b\b\b\b\b\b\b\r1681/1681 [==============================] - 39s 23ms/sample - loss: 0.2374 - acc: 0.9833 - val_loss: 0.0000e+00 - val_acc: 0.1395 - lr: 5.0000e-05\n",
            "Epoch 31/50\n",
            "1681/1681 [==============================] - ETA: 0s - loss: 0.1906 - acc: 0.9845"
          ]
        },
        {
          "output_type": "stream",
          "name": "stderr",
          "text": [
            "WARNING:tensorflow:Can save best model only with val_accuracy available, skipping.\n"
          ]
        },
        {
          "output_type": "stream",
          "name": "stdout",
          "text": [
            "\b\b\b\b\b\b\b\b\b\b\b\b\b\b\b\b\b\b\b\b\b\b\b\b\b\b\b\b\b\b\b\b\b\b\b\b\b\b\b\b\b\b\b\b\b\b\b\b\b\b\b\b\b\b\b\b\b\b\b\b\b\b\b\b\b\b\b\b\b\b\b\b\b\b\b\b\b\b\b\b\b\r1681/1681 [==============================] - 39s 23ms/sample - loss: 0.1906 - acc: 0.9845 - val_loss: 0.0000e+00 - val_acc: 0.1642 - lr: 5.0000e-05\n",
            "Epoch 32/50\n",
            "1681/1681 [==============================] - ETA: 0s - loss: 0.1445 - acc: 0.9887"
          ]
        },
        {
          "output_type": "stream",
          "name": "stderr",
          "text": [
            "WARNING:tensorflow:Can save best model only with val_accuracy available, skipping.\n"
          ]
        },
        {
          "output_type": "stream",
          "name": "stdout",
          "text": [
            "\b\b\b\b\b\b\b\b\b\b\b\b\b\b\b\b\b\b\b\b\b\b\b\b\b\b\b\b\b\b\b\b\b\b\b\b\b\b\b\b\b\b\b\b\b\b\b\b\b\b\b\b\b\b\b\b\b\b\b\b\b\b\b\b\b\b\b\b\b\b\b\b\b\b\b\b\b\b\b\b\b\r1681/1681 [==============================] - 38s 23ms/sample - loss: 0.1445 - acc: 0.9887 - val_loss: 0.0000e+00 - val_acc: 0.1221 - lr: 5.0000e-05\n",
            "Epoch 33/50\n",
            "1681/1681 [==============================] - ETA: 0s - loss: 0.1461 - acc: 0.9923"
          ]
        },
        {
          "output_type": "stream",
          "name": "stderr",
          "text": [
            "WARNING:tensorflow:Can save best model only with val_accuracy available, skipping.\n"
          ]
        },
        {
          "output_type": "stream",
          "name": "stdout",
          "text": [
            "\b\b\b\b\b\b\b\b\b\b\b\b\b\b\b\b\b\b\b\b\b\b\b\b\b\b\b\b\b\b\b\b\b\b\b\b\b\b\b\b\b\b\b\b\b\b\b\b\b\b\b\b\b\b\b\b\b\b\b\b\b\b\b\b\b\b\b\b\b\b\b\b\b\b\b\b\b\b\b\b\b\r1681/1681 [==============================] - 38s 23ms/sample - loss: 0.1461 - acc: 0.9923 - val_loss: 0.0000e+00 - val_acc: 0.1512 - lr: 5.0000e-05\n",
            "Epoch 34/50\n",
            "1681/1681 [==============================] - ETA: 0s - loss: 0.2149 - acc: 0.9839"
          ]
        },
        {
          "output_type": "stream",
          "name": "stderr",
          "text": [
            "WARNING:tensorflow:Can save best model only with val_accuracy available, skipping.\n"
          ]
        },
        {
          "output_type": "stream",
          "name": "stdout",
          "text": [
            "\b\b\b\b\b\b\b\b\b\b\b\b\b\b\b\b\b\b\b\b\b\b\b\b\b\b\b\b\b\b\b\b\b\b\b\b\b\b\b\b\b\b\b\b\b\b\b\b\b\b\b\b\b\b\b\b\b\b\b\b\b\b\b\b\b\b\b\b\b\b\b\b\b\b\b\b\b\b\b\b\b\r1681/1681 [==============================] - 38s 23ms/sample - loss: 0.2149 - acc: 0.9839 - val_loss: 0.0000e+00 - val_acc: 0.1294 - lr: 5.0000e-05\n",
            "Epoch 35/50\n",
            "1681/1681 [==============================] - ETA: 0s - loss: 0.2665 - acc: 0.9887"
          ]
        },
        {
          "output_type": "stream",
          "name": "stderr",
          "text": [
            "WARNING:tensorflow:Can save best model only with val_accuracy available, skipping.\n"
          ]
        },
        {
          "output_type": "stream",
          "name": "stdout",
          "text": [
            "\b\b\b\b\b\b\b\b\b\b\b\b\b\b\b\b\b\b\b\b\b\b\b\b\b\b\b\b\b\b\b\b\b\b\b\b\b\b\b\b\b\b\b\b\b\b\b\b\b\b\b\b\b\b\b\b\b\b\b\b\b\b\b\b\b\b\b\b\b\b\b\b\b\b\b\b\b\b\b\b\b\r1681/1681 [==============================] - 38s 23ms/sample - loss: 0.2665 - acc: 0.9887 - val_loss: 0.0000e+00 - val_acc: 0.0988 - lr: 5.0000e-05\n",
            "Epoch 36/50\n",
            "1681/1681 [==============================] - ETA: 0s - loss: 0.3011 - acc: 0.9822"
          ]
        },
        {
          "output_type": "stream",
          "name": "stderr",
          "text": [
            "WARNING:tensorflow:Can save best model only with val_accuracy available, skipping.\n"
          ]
        },
        {
          "output_type": "stream",
          "name": "stdout",
          "text": [
            "\b\b\b\b\b\b\b\b\b\b\b\b\b\b\b\b\b\b\b\b\b\b\b\b\b\b\b\b\b\b\b\b\b\b\b\b\b\b\b\b\b\b\b\b\b\b\b\b\b\b\b\b\b\b\b\b\b\b\b\b\b\b\b\b\b\b\b\b\b\b\b\b\b\b\b\b\b\b\b\b\b\r1681/1681 [==============================] - 39s 23ms/sample - loss: 0.3011 - acc: 0.9822 - val_loss: 0.0000e+00 - val_acc: 0.1119 - lr: 5.0000e-05\n",
            "Epoch 37/50\n",
            "1679/1681 [============================>.] - ETA: 0s - loss: 0.1281 - acc: 0.9911"
          ]
        },
        {
          "output_type": "stream",
          "name": "stderr",
          "text": [
            "WARNING:tensorflow:Can save best model only with val_accuracy available, skipping.\n"
          ]
        },
        {
          "output_type": "stream",
          "name": "stdout",
          "text": [
            "\b\b\b\b\b\b\b\b\b\b\b\b\b\b\b\b\b\b\b\b\b\b\b\b\b\b\b\b\b\b\b\b\b\b\b\b\b\b\b\b\b\b\b\b\b\b\b\b\b\b\b\b\b\b\b\b\b\b\b\b\b\b\b\b\b\b\b\b\b\b\b\b\b\b\b\b\b\b\b\b\b\r1681/1681 [==============================] - 40s 24ms/sample - loss: 0.1280 - acc: 0.9911 - val_loss: 0.0000e+00 - val_acc: 0.1192 - lr: 5.0000e-05\n",
            "Epoch 38/50\n",
            "1681/1681 [==============================] - ETA: 0s - loss: 0.0923 - acc: 0.9929"
          ]
        },
        {
          "output_type": "stream",
          "name": "stderr",
          "text": [
            "WARNING:tensorflow:Can save best model only with val_accuracy available, skipping.\n"
          ]
        },
        {
          "output_type": "stream",
          "name": "stdout",
          "text": [
            "\b\b\b\b\b\b\b\b\b\b\b\b\b\b\b\b\b\b\b\b\b\b\b\b\b\b\b\b\b\b\b\b\b\b\b\b\b\b\b\b\b\b\b\b\b\b\b\b\b\b\b\b\b\b\b\b\b\b\b\b\b\b\b\b\b\b\b\b\b\b\b\b\b\b\b\b\b\b\b\b\b\r1681/1681 [==============================] - 39s 23ms/sample - loss: 0.0923 - acc: 0.9929 - val_loss: 0.0000e+00 - val_acc: 0.1105 - lr: 5.0000e-05\n",
            "Epoch 39/50\n",
            "1681/1681 [==============================] - ETA: 0s - loss: 0.2654 - acc: 0.9869"
          ]
        },
        {
          "output_type": "stream",
          "name": "stderr",
          "text": [
            "WARNING:tensorflow:Can save best model only with val_accuracy available, skipping.\n"
          ]
        },
        {
          "output_type": "stream",
          "name": "stdout",
          "text": [
            "\b\b\b\b\b\b\b\b\b\b\b\b\b\b\b\b\b\b\b\b\b\b\b\b\b\b\b\b\b\b\b\b\b\b\b\b\b\b\b\b\b\b\b\b\b\b\b\b\b\b\b\b\b\b\b\b\b\b\b\b\b\b\b\b\b\b\b\b\b\b\b\b\b\b\b\b\b\b\b\b\b\r1681/1681 [==============================] - 38s 23ms/sample - loss: 0.2654 - acc: 0.9869 - val_loss: 0.0000e+00 - val_acc: 0.1831 - lr: 5.0000e-05\n",
            "Epoch 40/50\n",
            "1681/1681 [==============================] - ETA: 0s - loss: 0.3379 - acc: 0.9780"
          ]
        },
        {
          "output_type": "stream",
          "name": "stderr",
          "text": [
            "WARNING:tensorflow:Can save best model only with val_accuracy available, skipping.\n"
          ]
        },
        {
          "output_type": "stream",
          "name": "stdout",
          "text": [
            "\b\b\b\b\b\b\b\b\b\b\b\b\b\b\b\b\b\b\b\b\b\b\b\b\b\b\b\b\b\b\b\b\b\b\b\b\b\b\b\b\b\b\b\b\b\b\b\b\b\b\b\b\b\b\b\b\b\b\b\b\b\b\b\b\b\b\b\b\b\b\b\b\b\b\b\b\b\b\b\b\b\r1681/1681 [==============================] - 38s 23ms/sample - loss: 0.3379 - acc: 0.9780 - val_loss: 0.0000e+00 - val_acc: 0.1032 - lr: 5.0000e-05\n",
            "Epoch 41/50\n",
            "1681/1681 [==============================] - ETA: 0s - loss: 0.2363 - acc: 0.9881"
          ]
        },
        {
          "output_type": "stream",
          "name": "stderr",
          "text": [
            "WARNING:tensorflow:Can save best model only with val_accuracy available, skipping.\n"
          ]
        },
        {
          "output_type": "stream",
          "name": "stdout",
          "text": [
            "\b\b\b\b\b\b\b\b\b\b\b\b\b\b\b\b\b\b\b\b\b\b\b\b\b\b\b\b\b\b\b\b\b\b\b\b\b\b\b\b\b\b\b\b\b\b\b\b\b\b\b\b\b\b\b\b\b\b\b\b\b\b\b\b\b\b\b\b\b\b\b\b\b\b\b\b\b\b\b\b\b\r1681/1681 [==============================] - 38s 23ms/sample - loss: 0.2363 - acc: 0.9881 - val_loss: 0.0000e+00 - val_acc: 0.1410 - lr: 5.0000e-05\n",
            "Epoch 42/50\n",
            "1681/1681 [==============================] - ETA: 0s - loss: 0.8122 - acc: 0.9762"
          ]
        },
        {
          "output_type": "stream",
          "name": "stderr",
          "text": [
            "WARNING:tensorflow:Can save best model only with val_accuracy available, skipping.\n"
          ]
        },
        {
          "output_type": "stream",
          "name": "stdout",
          "text": [
            "\b\b\b\b\b\b\b\b\b\b\b\b\b\b\b\b\b\b\b\b\b\b\b\b\b\b\b\b\b\b\b\b\b\b\b\b\b\b\b\b\b\b\b\b\b\b\b\b\b\b\b\b\b\b\b\b\b\b\b\b\b\b\b\b\b\b\b\b\b\b\b\b\b\b\b\b\b\b\b\b\b\r1681/1681 [==============================] - 38s 23ms/sample - loss: 0.8122 - acc: 0.9762 - val_loss: 0.0000e+00 - val_acc: 0.0974 - lr: 5.0000e-05\n",
            "Epoch 43/50\n",
            "1681/1681 [==============================] - ETA: 0s - loss: 0.1007 - acc: 0.9958"
          ]
        },
        {
          "output_type": "stream",
          "name": "stderr",
          "text": [
            "WARNING:tensorflow:Can save best model only with val_accuracy available, skipping.\n"
          ]
        },
        {
          "output_type": "stream",
          "name": "stdout",
          "text": [
            "\b\b\b\b\b\b\b\b\b\b\b\b\b\b\b\b\b\b\b\b\b\b\b\b\b\b\b\b\b\b\b\b\b\b\b\b\b\b\b\b\b\b\b\b\b\b\b\b\b\b\b\b\b\b\b\b\b\b\b\b\b\b\b\b\b\b\b\b\b\b\b\b\b\b\b\b\b\b\b\b\b\r1681/1681 [==============================] - 38s 23ms/sample - loss: 0.1007 - acc: 0.9958 - val_loss: 0.0000e+00 - val_acc: 0.1265 - lr: 5.0000e-05\n",
            "Epoch 44/50\n",
            "1681/1681 [==============================] - ETA: 0s - loss: 0.2060 - acc: 0.9905"
          ]
        },
        {
          "output_type": "stream",
          "name": "stderr",
          "text": [
            "WARNING:tensorflow:Can save best model only with val_accuracy available, skipping.\n"
          ]
        },
        {
          "output_type": "stream",
          "name": "stdout",
          "text": [
            "\b\b\b\b\b\b\b\b\b\b\b\b\b\b\b\b\b\b\b\b\b\b\b\b\b\b\b\b\b\b\b\b\b\b\b\b\b\b\b\b\b\b\b\b\b\b\b\b\b\b\b\b\b\b\b\b\b\b\b\b\b\b\b\b\b\b\b\b\b\b\b\b\b\b\b\b\b\b\b\b\b\r1681/1681 [==============================] - 39s 23ms/sample - loss: 0.2060 - acc: 0.9905 - val_loss: 0.0000e+00 - val_acc: 0.1265 - lr: 5.0000e-05\n",
            "Epoch 45/50\n",
            "1681/1681 [==============================] - ETA: 0s - loss: 0.2409 - acc: 0.9893"
          ]
        },
        {
          "output_type": "stream",
          "name": "stderr",
          "text": [
            "WARNING:tensorflow:Can save best model only with val_accuracy available, skipping.\n"
          ]
        },
        {
          "output_type": "stream",
          "name": "stdout",
          "text": [
            "\b\b\b\b\b\b\b\b\b\b\b\b\b\b\b\b\b\b\b\b\b\b\b\b\b\b\b\b\b\b\b\b\b\b\b\b\b\b\b\b\b\b\b\b\b\b\b\b\b\b\b\b\b\b\b\b\b\b\b\b\b\b\b\b\b\b\b\b\b\b\b\b\b\b\b\b\b\b\b\b\b\r1681/1681 [==============================] - 39s 23ms/sample - loss: 0.2409 - acc: 0.9893 - val_loss: 0.0000e+00 - val_acc: 0.1163 - lr: 5.0000e-05\n",
            "Epoch 46/50\n",
            "1681/1681 [==============================] - ETA: 0s - loss: 0.1939 - acc: 0.9881"
          ]
        },
        {
          "output_type": "stream",
          "name": "stderr",
          "text": [
            "WARNING:tensorflow:Can save best model only with val_accuracy available, skipping.\n"
          ]
        },
        {
          "output_type": "stream",
          "name": "stdout",
          "text": [
            "\b\b\b\b\b\b\b\b\b\b\b\b\b\b\b\b\b\b\b\b\b\b\b\b\b\b\b\b\b\b\b\b\b\b\b\b\b\b\b\b\b\b\b\b\b\b\b\b\b\b\b\b\b\b\b\b\b\b\b\b\b\b\b\b\b\b\b\b\b\b\b\b\b\b\b\b\b\b\b\b\b\r1681/1681 [==============================] - 39s 23ms/sample - loss: 0.1939 - acc: 0.9881 - val_loss: 0.0000e+00 - val_acc: 0.1090 - lr: 5.0000e-05\n",
            "Epoch 47/50\n",
            "1681/1681 [==============================] - ETA: 0s - loss: 0.4809 - acc: 0.9845"
          ]
        },
        {
          "output_type": "stream",
          "name": "stderr",
          "text": [
            "WARNING:tensorflow:Can save best model only with val_accuracy available, skipping.\n"
          ]
        },
        {
          "output_type": "stream",
          "name": "stdout",
          "text": [
            "\b\b\b\b\b\b\b\b\b\b\b\b\b\b\b\b\b\b\b\b\b\b\b\b\b\b\b\b\b\b\b\b\b\b\b\b\b\b\b\b\b\b\b\b\b\b\b\b\b\b\b\b\b\b\b\b\b\b\b\b\b\b\b\b\b\b\b\b\b\b\b\b\b\b\b\b\b\b\b\b\b\r1681/1681 [==============================] - 39s 23ms/sample - loss: 0.4809 - acc: 0.9845 - val_loss: 0.0000e+00 - val_acc: 0.1221 - lr: 5.0000e-05\n",
            "Epoch 48/50\n",
            "1681/1681 [==============================] - ETA: 0s - loss: 0.2070 - acc: 0.9899"
          ]
        },
        {
          "output_type": "stream",
          "name": "stderr",
          "text": [
            "WARNING:tensorflow:Can save best model only with val_accuracy available, skipping.\n"
          ]
        },
        {
          "output_type": "stream",
          "name": "stdout",
          "text": [
            "\b\b\b\b\b\b\b\b\b\b\b\b\b\b\b\b\b\b\b\b\b\b\b\b\b\b\b\b\b\b\b\b\b\b\b\b\b\b\b\b\b\b\b\b\b\b\b\b\b\b\b\b\b\b\b\b\b\b\b\b\b\b\b\b\b\b\b\b\b\b\b\b\b\b\b\b\b\b\b\b\b\r1681/1681 [==============================] - 39s 23ms/sample - loss: 0.2070 - acc: 0.9899 - val_loss: 0.0000e+00 - val_acc: 0.0770 - lr: 5.0000e-05\n",
            "Epoch 49/50\n",
            "1681/1681 [==============================] - ETA: 0s - loss: 0.3129 - acc: 0.9893"
          ]
        },
        {
          "output_type": "stream",
          "name": "stderr",
          "text": [
            "WARNING:tensorflow:Can save best model only with val_accuracy available, skipping.\n"
          ]
        },
        {
          "output_type": "stream",
          "name": "stdout",
          "text": [
            "\b\b\b\b\b\b\b\b\b\b\b\b\b\b\b\b\b\b\b\b\b\b\b\b\b\b\b\b\b\b\b\b\b\b\b\b\b\b\b\b\b\b\b\b\b\b\b\b\b\b\b\b\b\b\b\b\b\b\b\b\b\b\b\b\b\b\b\b\b\b\b\b\b\b\b\b\b\b\b\b\b\r1681/1681 [==============================] - 39s 23ms/sample - loss: 0.3129 - acc: 0.9893 - val_loss: 0.0000e+00 - val_acc: 0.1076 - lr: 5.0000e-05\n",
            "Epoch 50/50\n",
            "1681/1681 [==============================] - ETA: 0s - loss: 0.2957 - acc: 0.9881"
          ]
        },
        {
          "output_type": "stream",
          "name": "stderr",
          "text": [
            "WARNING:tensorflow:Can save best model only with val_accuracy available, skipping.\n"
          ]
        },
        {
          "output_type": "stream",
          "name": "stdout",
          "text": [
            "\b\b\b\b\b\b\b\b\b\b\b\b\b\b\b\b\b\b\b\b\b\b\b\b\b\b\b\b\b\b\b\b\b\b\b\b\b\b\b\b\b\b\b\b\b\b\b\b\b\b\b\b\b\b\b\b\b\b\b\b\b\b\b\b\b\b\b\b\b\b\b\b\b\b\b\b\b\b\b\b\b\r1681/1681 [==============================] - 38s 23ms/sample - loss: 0.2957 - acc: 0.9881 - val_loss: 0.0000e+00 - val_acc: 0.0988 - lr: 5.0000e-05\n"
          ]
        },
        {
          "output_type": "display_data",
          "data": {
            "text/plain": [
              "<Figure size 432x288 with 1 Axes>"
            ],
            "image/png": "[encoded data removed]"
          },
          "metadata": {
            "needs_background": "light"
          }
        }
      ]
    },
    {
      "cell_type": "code",
      "source": [
        "# import pickle\n",
        "# with open('/content/VGG16_RAW.pkl', 'wb') as fp:\n",
        "#     pickle.dump(transfer_model, fp)\n",
        "  \n",
        "transfer_model.save('VGG16_RAW.h5')\n",
        "transfer_model.save_weights('VGG16_RAW_Weights.h5')\n"
      ],
      "metadata": {
        "id": "Ns3qzSa17Jke"
      },
      "execution_count": null,
      "outputs": []
    },
    {
      "cell_type": "markdown",
      "source": [
        "##VGG ALGORITHM AUG"
      ],
      "metadata": {
        "id": "_7et--DNudqm"
      }
    },
    {
      "cell_type": "code",
      "source": [
        "from keras.applications import VGG16\n",
        "from keras.layers import Flatten, Dense, BatchNormalization, Activation,Dropout\n",
        "\n",
        "vgg_model = VGG16(weights='imagenet', include_top=False, input_shape=(224, 224, 3))\n",
        "\n",
        "for layer in vgg_model.layers[:15]:\n",
        "  layer.trainable = False\n",
        "x = vgg_model.output\n",
        "x = Flatten()(x) # Flatten dimensions to for use in FC layers\n",
        "x = Dense(512, activation='relu')(x)\n",
        "x = Dropout(0.5)(x) # Dropout layer to reduce overfitting\n",
        "x = Dense(256, activation='relu')(x)\n",
        "x = Dense(6, activation='softmax')(x) # Softmax for multiclass\n",
        "transfer_model = Model(inputs=vgg_model.input, outputs=x)\n",
        "\n",
        "\n",
        "from keras import layers, models, Model, optimizers\n",
        "from keras.preprocessing.image import ImageDataGenerator\n",
        "from keras.callbacks import ReduceLROnPlateau\n",
        "from keras.callbacks import ModelCheckpoint\n",
        "\n",
        "\n",
        "lr_reduce = ReduceLROnPlateau(monitor='val_acc', factor=0.6, patience=8, verbose=1, mode='max', min_lr=5e-5)\n",
        "checkpoint = ModelCheckpoint('vgg16_finetune.h15', monitor= 'val_accuracy', mode= 'max', save_best_only = True, verbose= 1)\n",
        "\n",
        "\n",
        "#Augment images\n",
        "train_datagen = ImageDataGenerator(zoom_range=0.2, rotation_range=30, width_shift_range=0.2, height_shift_range=0.2, shear_range=0.2)\n",
        "#Fit augmentation to training images\n",
        "train_generator = train_datagen.flow(X_train,y_train,batch_size=100)\n",
        "#Compile model\n",
        "transfer_model.compile(loss=\"categorical_crossentropy\", optimizer='adam', metrics=[\"accuracy\"])\n",
        "#Fit model\n",
        "history = transfer_model.fit_generator(train_generator, validation_data=(X_test,y_test), epochs=50, shuffle=True, callbacks=[lr_reduce],verbose=1)\n",
        "\n",
        "transfer_model.save('model_vgg16_off.h5')\n",
        "transfer_model.save_weights('model_vgg16_weights_off.h5')\n",
        "\n",
        "\n",
        "\n",
        "import matplotlib.pyplot as plt\n",
        "def show_history(history):\n",
        "    plt.plot(history.history['acc'])\n",
        "    plt.plot(history.history['val_acc'])\n",
        "    plt.ylabel('accuracy')\n",
        "    plt.xlabel('epoch')\n",
        "    plt.legend(['train_accuracy', 'test_accuracy'], loc='best')\n",
        "    plt.show()\n",
        "\n",
        "show_history(history)\n",
        "\n",
        "\n"
      ],
      "metadata": {
        "colab": {
          "base_uri": "https://localhost:8080/",
          "height": 1000
        },
        "id": "4BhnD_F-ugqf",
        "outputId": "3687f1a4-acb3-499e-9727-cf40cdc9fa9f"
      },
      "execution_count": null,
      "outputs": [
        {
          "output_type": "stream",
          "name": "stdout",
          "text": [
            "Downloading data from https://storage.googleapis.com/tensorflow/keras-applications/vgg16/vgg16_weights_tf_dim_ordering_tf_kernels_notop.h5\n",
            "58889256/58889256 [==============================] - 3s 0us/step\n",
            "Epoch 1/50\n"
          ]
        },
        {
          "output_type": "stream",
          "name": "stderr",
          "text": [
            "<ipython-input-11-bfa68624eab0>:34: UserWarning: `model.fit_generator` is deprecated and will be removed in a future version. Please use `Model.fit`, which supports generators.\n",
            "  history = transfer_model.fit_generator(train_generator, validation_data=(X_test,y_test), epochs=50, shuffle=True, callbacks=[lr_reduce],verbose=1)\n"
          ]
        },
        {
          "output_type": "stream",
          "name": "stdout",
          "text": [
            "17/17 [==============================] - ETA: 0s - batch: 8.0000 - size: 98.8824 - loss: 5.2473 - acc: 0.2338"
          ]
        },
        {
          "output_type": "stream",
          "name": "stderr",
          "text": [
            "/usr/local/lib/python3.8/dist-packages/keras/engine/training_v1.py:2045: UserWarning: `Model.state_updates` will be removed in a future version. This property should not be used in TensorFlow 2.0, as `updates` are applied automatically.\n",
            "  updates = self.state_updates\n"
          ]
        },
        {
          "output_type": "stream",
          "name": "stdout",
          "text": [
            "\b\b\b\b\b\b\b\b\b\b\b\b\b\b\b\b\b\b\b\b\b\b\b\b\b\b\b\b\b\b\b\b\b\b\b\b\b\b\b\b\b\b\b\b\b\b\b\b\b\b\b\b\b\b\b\b\b\b\b\b\b\b\b\b\b\b\b\b\b\b\b\b\b\b\b\b\b\b\b\b\b\b\b\b\b\b\b\b\b\b\b\b\b\b\b\b\b\b\b\b\b\b\b\b\b\b\b\b\b\r17/17 [==============================] - 43s 1s/step - batch: 8.0000 - size: 98.8824 - loss: 5.2494 - acc: 0.2338 - val_loss: 0.0000e+00 - val_acc: 0.0000e+00 - lr: 0.0010\n",
            "Epoch 2/50\n",
            "17/17 [==============================] - 18s 1s/step - batch: 8.0000 - size: 98.8824 - loss: 1.8853 - acc: 0.2487 - val_loss: 0.0000e+00 - val_acc: 0.0000e+00 - lr: 0.0010\n",
            "Epoch 3/50\n",
            "17/17 [==============================] - 21s 1s/step - batch: 8.0000 - size: 98.8824 - loss: 1.9472 - acc: 0.2701 - val_loss: 0.0000e+00 - val_acc: 0.0000e+00 - lr: 0.0010\n",
            "Epoch 4/50\n",
            "17/17 [==============================] - 21s 1s/step - batch: 8.0000 - size: 98.8824 - loss: 2.0016 - acc: 0.2677 - val_loss: 0.0000e+00 - val_acc: 0.0000e+00 - lr: 0.0010\n",
            "Epoch 5/50\n",
            "17/17 [==============================] - 21s 1s/step - batch: 8.0000 - size: 98.8824 - loss: 2.3340 - acc: 0.2713 - val_loss: 0.0000e+00 - val_acc: 0.0000e+00 - lr: 0.0010\n",
            "Epoch 6/50\n",
            "17/17 [==============================] - 21s 1s/step - batch: 8.0000 - size: 98.8824 - loss: 1.7734 - acc: 0.2725 - val_loss: 0.0000e+00 - val_acc: 0.0000e+00 - lr: 0.0010\n",
            "Epoch 7/50\n",
            "17/17 [==============================] - 21s 1s/step - batch: 8.0000 - size: 98.8824 - loss: 1.7344 - acc: 0.2725 - val_loss: 0.0000e+00 - val_acc: 0.0000e+00 - lr: 0.0010\n",
            "Epoch 8/50\n",
            "17/17 [==============================] - 21s 1s/step - batch: 8.0000 - size: 98.8824 - loss: 1.7398 - acc: 0.2742 - val_loss: 0.0000e+00 - val_acc: 0.0000e+00 - lr: 0.0010\n",
            "Epoch 9/50\n",
            "17/17 [==============================] - ETA: 0s - batch: 8.0000 - size: 98.8824 - loss: 1.7252 - acc: 0.2725\n",
            "Epoch 9: ReduceLROnPlateau reducing learning rate to 0.0006000000284984708.\n",
            "17/17 [==============================] - 21s 1s/step - batch: 8.0000 - size: 98.8824 - loss: 1.7252 - acc: 0.2725 - val_loss: 0.0000e+00 - val_acc: 0.0000e+00 - lr: 0.0010\n",
            "Epoch 10/50\n",
            "17/17 [==============================] - 21s 1s/step - batch: 8.0000 - size: 98.8824 - loss: 1.7226 - acc: 0.2725 - val_loss: 0.0000e+00 - val_acc: 0.0000e+00 - lr: 6.0000e-04\n",
            "Epoch 11/50\n",
            "17/17 [==============================] - 29s 2s/step - batch: 8.0000 - size: 98.8824 - loss: 1.7237 - acc: 0.2725 - val_loss: 0.0000e+00 - val_acc: 0.0000e+00 - lr: 6.0000e-04\n",
            "Epoch 12/50\n",
            "17/17 [==============================] - 26s 2s/step - batch: 8.0000 - size: 98.8824 - loss: 1.7233 - acc: 0.2725 - val_loss: 0.0000e+00 - val_acc: 0.0000e+00 - lr: 6.0000e-04\n",
            "Epoch 13/50\n",
            "17/17 [==============================] - 21s 1s/step - batch: 8.0000 - size: 98.8824 - loss: 1.7222 - acc: 0.2725 - val_loss: 0.0000e+00 - val_acc: 0.0000e+00 - lr: 6.0000e-04\n",
            "Epoch 14/50\n",
            "17/17 [==============================] - 21s 1s/step - batch: 8.0000 - size: 98.8824 - loss: 1.7225 - acc: 0.2725 - val_loss: 0.0000e+00 - val_acc: 0.0000e+00 - lr: 6.0000e-04\n",
            "Epoch 15/50\n",
            "17/17 [==============================] - 22s 1s/step - batch: 8.0000 - size: 98.8824 - loss: 1.7214 - acc: 0.2725 - val_loss: 0.0000e+00 - val_acc: 0.0000e+00 - lr: 6.0000e-04\n",
            "Epoch 16/50\n",
            "17/17 [==============================] - 22s 1s/step - batch: 8.0000 - size: 98.8824 - loss: 1.7223 - acc: 0.2725 - val_loss: 0.0000e+00 - val_acc: 0.0000e+00 - lr: 6.0000e-04\n",
            "Epoch 17/50\n",
            "17/17 [==============================] - ETA: 0s - batch: 8.0000 - size: 98.8824 - loss: 1.7221 - acc: 0.2725\n",
            "Epoch 17: ReduceLROnPlateau reducing learning rate to 0.0003600000170990825.\n",
            "17/17 [==============================] - 21s 1s/step - batch: 8.0000 - size: 98.8824 - loss: 1.7222 - acc: 0.2725 - val_loss: 0.0000e+00 - val_acc: 0.0000e+00 - lr: 6.0000e-04\n",
            "Epoch 18/50\n",
            "17/17 [==============================] - 22s 1s/step - batch: 8.0000 - size: 98.8824 - loss: 1.8651 - acc: 0.2707 - val_loss: 0.0000e+00 - val_acc: 0.0000e+00 - lr: 3.6000e-04\n",
            "Epoch 19/50\n",
            "17/17 [==============================] - 21s 1s/step - batch: 8.0000 - size: 98.8824 - loss: 1.7226 - acc: 0.2725 - val_loss: 0.0000e+00 - val_acc: 0.0000e+00 - lr: 3.6000e-04\n",
            "Epoch 20/50\n",
            "17/17 [==============================] - 21s 1s/step - batch: 8.0000 - size: 98.8824 - loss: 1.7232 - acc: 0.2725 - val_loss: 0.0000e+00 - val_acc: 0.0000e+00 - lr: 3.6000e-04\n",
            "Epoch 21/50\n",
            "17/17 [==============================] - 23s 1s/step - batch: 8.0000 - size: 98.8824 - loss: 1.7209 - acc: 0.2725 - val_loss: 0.0000e+00 - val_acc: 0.0000e+00 - lr: 3.6000e-04\n",
            "Epoch 22/50\n",
            "17/17 [==============================] - 21s 1s/step - batch: 8.0000 - size: 98.8824 - loss: 1.7218 - acc: 0.2725 - val_loss: 0.0000e+00 - val_acc: 0.0000e+00 - lr: 3.6000e-04\n",
            "Epoch 23/50\n",
            "17/17 [==============================] - 21s 1s/step - batch: 8.0000 - size: 98.8824 - loss: 1.7233 - acc: 0.2725 - val_loss: 0.0000e+00 - val_acc: 0.0000e+00 - lr: 3.6000e-04\n",
            "Epoch 24/50\n",
            "17/17 [==============================] - 21s 1s/step - batch: 8.0000 - size: 98.8824 - loss: 1.7227 - acc: 0.2725 - val_loss: 0.0000e+00 - val_acc: 0.0000e+00 - lr: 3.6000e-04\n",
            "Epoch 25/50\n",
            "17/17 [==============================] - ETA: 0s - batch: 8.0000 - size: 98.8824 - loss: 1.7223 - acc: 0.2725\n",
            "Epoch 25: ReduceLROnPlateau reducing learning rate to 0.00021600000327453016.\n",
            "17/17 [==============================] - 21s 1s/step - batch: 8.0000 - size: 98.8824 - loss: 1.7223 - acc: 0.2725 - val_loss: 0.0000e+00 - val_acc: 0.0000e+00 - lr: 3.6000e-04\n",
            "Epoch 26/50\n",
            "17/17 [==============================] - 21s 1s/step - batch: 8.0000 - size: 98.8824 - loss: 1.7225 - acc: 0.2725 - val_loss: 0.0000e+00 - val_acc: 0.0000e+00 - lr: 2.1600e-04\n",
            "Epoch 27/50\n",
            "17/17 [==============================] - 21s 1s/step - batch: 8.0000 - size: 98.8824 - loss: 1.7222 - acc: 0.2725 - val_loss: 0.0000e+00 - val_acc: 0.0000e+00 - lr: 2.1600e-04\n",
            "Epoch 28/50\n",
            "17/17 [==============================] - 21s 1s/step - batch: 8.0000 - size: 98.8824 - loss: 1.7218 - acc: 0.2725 - val_loss: 0.0000e+00 - val_acc: 0.0000e+00 - lr: 2.1600e-04\n",
            "Epoch 29/50\n",
            "17/17 [==============================] - 21s 1s/step - batch: 8.0000 - size: 98.8824 - loss: 1.7231 - acc: 0.2725 - val_loss: 0.0000e+00 - val_acc: 0.0000e+00 - lr: 2.1600e-04\n",
            "Epoch 30/50\n",
            "17/17 [==============================] - 21s 1s/step - batch: 8.0000 - size: 98.8824 - loss: 1.7223 - acc: 0.2725 - val_loss: 0.0000e+00 - val_acc: 0.0000e+00 - lr: 2.1600e-04\n",
            "Epoch 31/50\n",
            "17/17 [==============================] - 24s 1s/step - batch: 8.0000 - size: 98.8824 - loss: 1.7229 - acc: 0.2725 - val_loss: 0.0000e+00 - val_acc: 0.0000e+00 - lr: 2.1600e-04\n",
            "Epoch 32/50\n",
            "17/17 [==============================] - 24s 1s/step - batch: 8.0000 - size: 98.8824 - loss: 1.7218 - acc: 0.2725 - val_loss: 0.0000e+00 - val_acc: 0.0000e+00 - lr: 2.1600e-04\n",
            "Epoch 33/50\n",
            "17/17 [==============================] - ETA: 0s - batch: 8.0000 - size: 98.8824 - loss: 1.7227 - acc: 0.2725\n",
            "Epoch 33: ReduceLROnPlateau reducing learning rate to 0.00012960000021848827.\n",
            "17/17 [==============================] - 19s 1s/step - batch: 8.0000 - size: 98.8824 - loss: 1.7227 - acc: 0.2725 - val_loss: 0.0000e+00 - val_acc: 0.0000e+00 - lr: 2.1600e-04\n",
            "Epoch 34/50\n",
            "17/17 [==============================] - 21s 1s/step - batch: 8.0000 - size: 98.8824 - loss: 1.7219 - acc: 0.2725 - val_loss: 0.0000e+00 - val_acc: 0.0000e+00 - lr: 1.2960e-04\n",
            "Epoch 35/50\n",
            "17/17 [==============================] - 21s 1s/step - batch: 8.0000 - size: 98.8824 - loss: 1.7224 - acc: 0.2725 - val_loss: 0.0000e+00 - val_acc: 0.0000e+00 - lr: 1.2960e-04\n",
            "Epoch 36/50\n",
            "17/17 [==============================] - 21s 1s/step - batch: 8.0000 - size: 98.8824 - loss: 1.7215 - acc: 0.2725 - val_loss: 0.0000e+00 - val_acc: 0.0000e+00 - lr: 1.2960e-04\n",
            "Epoch 37/50\n",
            "17/17 [==============================] - 21s 1s/step - batch: 8.0000 - size: 98.8824 - loss: 1.7219 - acc: 0.2725 - val_loss: 0.0000e+00 - val_acc: 0.0000e+00 - lr: 1.2960e-04\n",
            "Epoch 38/50\n",
            "17/17 [==============================] - 21s 1s/step - batch: 8.0000 - size: 98.8824 - loss: 1.7238 - acc: 0.2725 - val_loss: 0.0000e+00 - val_acc: 0.0000e+00 - lr: 1.2960e-04\n",
            "Epoch 39/50\n",
            "17/17 [==============================] - 21s 1s/step - batch: 8.0000 - size: 98.8824 - loss: 1.7218 - acc: 0.2725 - val_loss: 0.0000e+00 - val_acc: 0.0000e+00 - lr: 1.2960e-04\n",
            "Epoch 40/50\n",
            "17/17 [==============================] - 20s 1s/step - batch: 8.0000 - size: 98.8824 - loss: 1.7212 - acc: 0.2725 - val_loss: 0.0000e+00 - val_acc: 0.0000e+00 - lr: 1.2960e-04\n",
            "Epoch 41/50\n",
            "17/17 [==============================] - ETA: 0s - batch: 8.0000 - size: 98.8824 - loss: 1.7218 - acc: 0.2725\n",
            "Epoch 41: ReduceLROnPlateau reducing learning rate to 7.775999838486313e-05.\n",
            "17/17 [==============================] - 23s 1s/step - batch: 8.0000 - size: 98.8824 - loss: 1.7218 - acc: 0.2725 - val_loss: 0.0000e+00 - val_acc: 0.0000e+00 - lr: 1.2960e-04\n",
            "Epoch 42/50\n",
            "17/17 [==============================] - 21s 1s/step - batch: 8.0000 - size: 98.8824 - loss: 1.7223 - acc: 0.2725 - val_loss: 0.0000e+00 - val_acc: 0.0000e+00 - lr: 7.7760e-05\n",
            "Epoch 43/50\n",
            "17/17 [==============================] - 20s 1s/step - batch: 8.0000 - size: 98.8824 - loss: 1.7228 - acc: 0.2725 - val_loss: 0.0000e+00 - val_acc: 0.0000e+00 - lr: 7.7760e-05\n",
            "Epoch 44/50\n",
            "17/17 [==============================] - 20s 1s/step - batch: 8.0000 - size: 98.8824 - loss: 1.7210 - acc: 0.2725 - val_loss: 0.0000e+00 - val_acc: 0.0000e+00 - lr: 7.7760e-05\n",
            "Epoch 45/50\n",
            "17/17 [==============================] - 21s 1s/step - batch: 8.0000 - size: 98.8824 - loss: 1.7213 - acc: 0.2725 - val_loss: 0.0000e+00 - val_acc: 0.0000e+00 - lr: 7.7760e-05\n",
            "Epoch 46/50\n",
            "17/17 [==============================] - 21s 1s/step - batch: 8.0000 - size: 98.8824 - loss: 1.7226 - acc: 0.2725 - val_loss: 0.0000e+00 - val_acc: 0.0000e+00 - lr: 7.7760e-05\n",
            "Epoch 47/50\n",
            "17/17 [==============================] - 20s 1s/step - batch: 8.0000 - size: 98.8824 - loss: 1.7235 - acc: 0.2725 - val_loss: 0.0000e+00 - val_acc: 0.0000e+00 - lr: 7.7760e-05\n",
            "Epoch 48/50\n",
            "17/17 [==============================] - 21s 1s/step - batch: 8.0000 - size: 98.8824 - loss: 1.7226 - acc: 0.2725 - val_loss: 0.0000e+00 - val_acc: 0.0000e+00 - lr: 7.7760e-05\n",
            "Epoch 49/50\n",
            "17/17 [==============================] - ETA: 0s - batch: 8.0000 - size: 98.8824 - loss: 1.7212 - acc: 0.2725\n",
            "Epoch 49: ReduceLROnPlateau reducing learning rate to 5e-05.\n",
            "17/17 [==============================] - 21s 1s/step - batch: 8.0000 - size: 98.8824 - loss: 1.7212 - acc: 0.2725 - val_loss: 0.0000e+00 - val_acc: 0.0000e+00 - lr: 7.7760e-05\n",
            "Epoch 50/50\n",
            "17/17 [==============================] - 21s 1s/step - batch: 8.0000 - size: 98.8824 - loss: 1.7226 - acc: 0.2725 - val_loss: 0.0000e+00 - val_acc: 0.0000e+00 - lr: 5.0000e-05\n"
          ]
        },
        {
          "output_type": "display_data",
          "data": {
            "text/plain": [
              "<Figure size 432x288 with 1 Axes>"
            ],
            "image/png": "[encoded data removed]"
          },
          "metadata": {
            "needs_background": "light"
          }
        }
      ]
    },
    {
      "cell_type": "code",
      "source": [
        "predd=transfer_model.predict(X_test)\n",
        "label=np.argmax(predd, axis=1)\n",
        "imgs_name=os.listdir(test_dir)\n",
        "import pandas as pd\n",
        "df = pd.DataFrame({'image_name': imgs_name,\n",
        "                   'label': label})\n",
        "print(df)\n",
        "df.to_csv(\"sport_2.csv\",index=False)"
      ],
      "metadata": {
        "colab": {
          "base_uri": "https://localhost:8080/"
        },
        "id": "Jtmzyfl5ts4w",
        "outputId": "f89a5466-9847-44f8-f693-e64c4cfae635"
      },
      "execution_count": null,
      "outputs": [
        {
          "output_type": "stream",
          "name": "stderr",
          "text": [
            "/usr/local/lib/python3.8/dist-packages/keras/engine/training_v1.py:2067: UserWarning: `Model.state_updates` will be removed in a future version. This property should not be used in TensorFlow 2.0, as `updates` are applied automatically.\n",
            "  updates=self.state_updates,\n"
          ]
        },
        {
          "output_type": "stream",
          "name": "stdout",
          "text": [
            "    image_name  label\n",
            "0      335.jpg      0\n",
            "1      384.jpg      0\n",
            "2      596.jpg      0\n",
            "3       15.jpg      0\n",
            "4      439.jpg      0\n",
            "..         ...    ...\n",
            "683    161.jpg      5\n",
            "684    428.jpg      5\n",
            "685    172.jpg      5\n",
            "686    279.jpg      5\n",
            "687    314.jpg      5\n",
            "\n",
            "[688 rows x 2 columns]\n"
          ]
        }
      ]
    },
    {
      "cell_type": "code",
      "source": [],
      "metadata": {
        "id": "b5vUnPJ0lK1m"
      },
      "execution_count": null,
      "outputs": []
    },
    {
      "cell_type": "code",
      "source": [
        "\n",
        "from keras.models import Sequential, Model, load_model\n",
        "import pickle\n",
        "\n",
        "import keras.utils as image\n",
        "from keras.applications.vgg16 import VGG16, preprocess_input\n",
        "import numpy as np\n",
        "import os\n",
        "import pandas as pd\n",
        "import os\n",
        "import cv2\n",
        "\n",
        "transfer_model = load_model('/content/VGG16_RAW.h5')\n",
        "\n",
        "\n",
        "from sklearn.model_selection import train_test_split\n",
        "IMG_SIZE = 224\n",
        "\n",
        "test_data = create_test_data()\n",
        "test = test_data\n",
        "\n",
        "X_test = np.array([i[0] for i in test]).reshape(-1, IMG_SIZE, IMG_SIZE, 3)\n",
        "\n",
        "def resize_data(data):\n",
        "    data_upscaled = np.zeros((data.shape[0], 224, 224, 3))\n",
        "    for i, img in enumerate(data):\n",
        "        large_img = cv2.resize(img, dsize=(224, 224), interpolation=cv2.INTER_CUBIC)\n",
        "        data_upscaled[i] = large_img\n",
        "\n",
        "    return data_upscaled\n",
        "\n",
        "test = resize_data(X_test)\n",
        "\n",
        "\n",
        "predd=transfer_model.predict(test)\n",
        "label=np.argmax(predd, axis=1)\n",
        "imgs_name=os.listdir(test_dir)\n",
        "import pandas as pd\n",
        "df = pd.DataFrame({'image_name': imgs_name,\n",
        "                   'label': label})\n",
        "print(df)\n",
        "df.to_csv(\"sport_2.csv\",index=False)\n",
        "\n",
        "\n",
        "\n",
        "# img = image.load_img(img_path, target_size=(224,224))\n",
        "# x = image.img_to_array(img)\n",
        "# x = np.expand_dims(x, axis=0)\n",
        "# x = preprocess_input(x)\n",
        "# pre = model.predict(x)\n",
        "# mmm = np.argmax(pre , axis=1)+1\n",
        "# print(mmm)"
      ],
      "metadata": {
        "colab": {
          "base_uri": "https://localhost:8080/"
        },
        "id": "IzqiOrVcBcyY",
        "outputId": "c3d13c8d-fd4c-4150-ceee-c3eea5e2b4e7"
      },
      "execution_count": null,
      "outputs": [
        {
          "output_type": "stream",
          "name": "stderr",
          "text": [
            "WARNING:tensorflow:From /usr/local/lib/python3.8/dist-packages/tensorflow/python/ops/init_ops.py:93: calling GlorotUniform.__init__ (from tensorflow.python.ops.init_ops) with dtype is deprecated and will be removed in a future version.\n",
            "Instructions for updating:\n",
            "Call initializer instance with the dtype argument instead of passing it to the constructor\n",
            "WARNING:tensorflow:From /usr/local/lib/python3.8/dist-packages/tensorflow/python/ops/init_ops.py:93: calling Zeros.__init__ (from tensorflow.python.ops.init_ops) with dtype is deprecated and will be removed in a future version.\n",
            "Instructions for updating:\n",
            "Call initializer instance with the dtype argument instead of passing it to the constructor\n",
            "/usr/local/lib/python3.8/dist-packages/numpy/lib/npyio.py:528: VisibleDeprecationWarning: Creating an ndarray from ragged nested sequences (which is a list-or-tuple of lists-or-tuples-or ndarrays with different lengths or shapes) is deprecated. If you meant to do this, you must specify 'dtype=object' when creating the ndarray.\n",
            "  arr = np.asanyarray(arr)\n",
            "/usr/local/lib/python3.8/dist-packages/keras/engine/training_v1.py:2067: UserWarning: `Model.state_updates` will be removed in a future version. This property should not be used in TensorFlow 2.0, as `updates` are applied automatically.\n",
            "  updates=self.state_updates,\n"
          ]
        },
        {
          "output_type": "stream",
          "name": "stdout",
          "text": [
            "    image_name  label\n",
            "0      335.jpg      4\n",
            "1      384.jpg      0\n",
            "2      596.jpg      0\n",
            "3       15.jpg      0\n",
            "4      439.jpg      4\n",
            "..         ...    ...\n",
            "683    161.jpg      5\n",
            "684    428.jpg      1\n",
            "685    172.jpg      5\n",
            "686    279.jpg      5\n",
            "687    314.jpg      5\n",
            "\n",
            "[688 rows x 2 columns]\n"
          ]
        }
      ]
    }
  ],
  "metadata": {
    "kernelspec": {
      "display_name": "Python 3",
      "language": "python",
      "name": "python3"
    },
    "language_info": {
      "codemirror_mode": {
        "name": "ipython",
        "version": 3
      },
      "file_extension": ".py",
      "mimetype": "text/x-python",
      "name": "python",
      "nbconvert_exporter": "python",
      "pygments_lexer": "ipython3",
      "version": "3.9.1"
    },
    "colab": {
      "provenance": [],
      "collapsed_sections": [
        "s7yJ9t-Ka_iA",
        "jb1xuMTaYA__"
      ]
    },
    "accelerator": "GPU",
    "gpuClass": "standard"
  },
  "nbformat": 4,
  "nbformat_minor": 0
}